{
  "cells": [
    {
      "cell_type": "markdown",
      "metadata": {
        "id": "VPuLXWENUOaO"
      },
      "source": [
        "<p style=\"text-align:center\">\n",
        "    <a href=\"https://skills.network/?utm_medium=Exinfluencer&utm_source=Exinfluencer&utm_content=000026UJ&utm_term=10006555&utm_id=NA-SkillsNetwork-Channel-SkillsNetworkCoursesIBMDeveloperSkillsNetworkPY0221ENSkillsNetwork899-2023-01-01\">\n",
        "    <img src=\"https://cf-courses-data.s3.us.cloud-object-storage.appdomain.cloud/assets/logos/SN_web_lightmode.png\" width=\"200\" alt=\"Skills Network Logo\"  />\n",
        "    </a>\n",
        "</p>\n"
      ]
    },
    {
      "cell_type": "markdown",
      "metadata": {
        "id": "0sj9PR6VUOaU"
      },
      "source": [
        "# Peer Review Assignment - Data Engineer - ETL\n"
      ]
    },
    {
      "cell_type": "markdown",
      "metadata": {
        "id": "kdbZ9PehUOaV"
      },
      "source": [
        "Estimated time needed: **20** minutes\n"
      ]
    },
    {
      "cell_type": "markdown",
      "metadata": {
        "id": "4ne4SDjyUOaV"
      },
      "source": [
        "## Objectives\n",
        "\n",
        "In this final part you will:\n",
        "\n",
        "- Run the ETL process\n",
        "- Extract bank and market cap data from the JSON file `bank_market_cap.json`\n",
        "- Transform the market cap currency using the exchange rate data\n",
        "- Load the transformed data into a seperate CSV\n"
      ]
    },
    {
      "cell_type": "markdown",
      "metadata": {
        "id": "L-WDj3JmUOaW"
      },
      "source": [
        "For this lab, we are going to be using Python and several Python libraries. Some of these libraries might be installed in your lab environment or in SN Labs. Others may need to be installed by you. The cells below will install these libraries when executed.\n"
      ]
    },
    {
      "cell_type": "code",
      "execution_count": null,
      "metadata": {
        "id": "019WAhuZUOaX"
      },
      "outputs": [],
      "source": [
        "#!mamba install pandas==1.3.3 -y\n",
        "#!mamba install requests==2.26.0 -y"
      ]
    },
    {
      "cell_type": "markdown",
      "metadata": {
        "id": "HGHzGOWAUOaZ"
      },
      "source": [
        "## Imports\n",
        "\n",
        "Import any additional libraries you may need here.\n"
      ]
    },
    {
      "cell_type": "code",
      "execution_count": null,
      "metadata": {
        "id": "Ur8jOhkfUOaa"
      },
      "outputs": [],
      "source": [
        "import glob\n",
        "import pandas as pd\n",
        "from datetime import datetime"
      ]
    },
    {
      "cell_type": "markdown",
      "metadata": {
        "id": "eziLNKEFUOaa"
      },
      "source": [
        "As the exchange rate fluctuates, we will download the same dataset to make marking simpler. This will be in the same format as the dataset you used in the last section  \n"
      ]
    },
    {
      "cell_type": "code",
      "execution_count": null,
      "metadata": {
        "colab": {
          "base_uri": "https://localhost:8080/"
        },
        "id": "STikl35dUOab",
        "outputId": "9eca6ab1-71da-48bb-daa4-c3f2c04f4186"
      },
      "outputs": [
        {
          "output_type": "stream",
          "name": "stdout",
          "text": [
            "--2023-06-04 07:33:04--  https://cf-courses-data.s3.us.cloud-object-storage.appdomain.cloud/IBMDeveloperSkillsNetwork-PY0221EN-SkillsNetwork/labs/module%206/Lab%20-%20Extract%20Transform%20Load/data/bank_market_cap_1.json\n",
            "Resolving cf-courses-data.s3.us.cloud-object-storage.appdomain.cloud (cf-courses-data.s3.us.cloud-object-storage.appdomain.cloud)... 198.23.119.245\n",
            "Connecting to cf-courses-data.s3.us.cloud-object-storage.appdomain.cloud (cf-courses-data.s3.us.cloud-object-storage.appdomain.cloud)|198.23.119.245|:443... connected.\n",
            "HTTP request sent, awaiting response... 200 OK\n",
            "Length: 2815 (2.7K) [application/json]\n",
            "Saving to: ‘bank_market_cap_1.json’\n",
            "\n",
            "bank_market_cap_1.j 100%[===================>]   2.75K  --.-KB/s    in 0s      \n",
            "\n",
            "2023-06-04 07:33:05 (511 MB/s) - ‘bank_market_cap_1.json’ saved [2815/2815]\n",
            "\n",
            "--2023-06-04 07:33:05--  https://cf-courses-data.s3.us.cloud-object-storage.appdomain.cloud/IBMDeveloperSkillsNetwork-PY0221EN-SkillsNetwork/labs/module%206/Lab%20-%20Extract%20Transform%20Load/data/bank_market_cap_2.json\n",
            "Resolving cf-courses-data.s3.us.cloud-object-storage.appdomain.cloud (cf-courses-data.s3.us.cloud-object-storage.appdomain.cloud)... 198.23.119.245\n",
            "Connecting to cf-courses-data.s3.us.cloud-object-storage.appdomain.cloud (cf-courses-data.s3.us.cloud-object-storage.appdomain.cloud)|198.23.119.245|:443... connected.\n",
            "HTTP request sent, awaiting response... 200 OK\n",
            "Length: 1429 (1.4K) [application/json]\n",
            "Saving to: ‘bank_market_cap_2.json’\n",
            "\n",
            "bank_market_cap_2.j 100%[===================>]   1.40K  --.-KB/s    in 0s      \n",
            "\n",
            "2023-06-04 07:33:05 (294 MB/s) - ‘bank_market_cap_2.json’ saved [1429/1429]\n",
            "\n",
            "--2023-06-04 07:33:05--  https://cf-courses-data.s3.us.cloud-object-storage.appdomain.cloud/IBMDeveloperSkillsNetwork-PY0221EN-SkillsNetwork/labs/module%206/Final%20Assignment/exchange_rates.csv\n",
            "Resolving cf-courses-data.s3.us.cloud-object-storage.appdomain.cloud (cf-courses-data.s3.us.cloud-object-storage.appdomain.cloud)... 198.23.119.245\n",
            "Connecting to cf-courses-data.s3.us.cloud-object-storage.appdomain.cloud (cf-courses-data.s3.us.cloud-object-storage.appdomain.cloud)|198.23.119.245|:443... connected.\n",
            "HTTP request sent, awaiting response... 200 OK\n",
            "Length: 590 [text/csv]\n",
            "Saving to: ‘exchange_rates.csv’\n",
            "\n",
            "exchange_rates.csv  100%[===================>]     590  --.-KB/s    in 0s      \n",
            "\n",
            "2023-06-04 07:33:05 (172 MB/s) - ‘exchange_rates.csv’ saved [590/590]\n",
            "\n"
          ]
        }
      ],
      "source": [
        "!wget https://cf-courses-data.s3.us.cloud-object-storage.appdomain.cloud/IBMDeveloperSkillsNetwork-PY0221EN-SkillsNetwork/labs/module%206/Lab%20-%20Extract%20Transform%20Load/data/bank_market_cap_1.json\n",
        "!wget https://cf-courses-data.s3.us.cloud-object-storage.appdomain.cloud/IBMDeveloperSkillsNetwork-PY0221EN-SkillsNetwork/labs/module%206/Lab%20-%20Extract%20Transform%20Load/data/bank_market_cap_2.json\n",
        "!wget https://cf-courses-data.s3.us.cloud-object-storage.appdomain.cloud/IBMDeveloperSkillsNetwork-PY0221EN-SkillsNetwork/labs/module%206/Final%20Assignment/exchange_rates.csv"
      ]
    },
    {
      "cell_type": "markdown",
      "metadata": {
        "id": "V4zNFKzVUOac"
      },
      "source": [
        "## Extract\n"
      ]
    },
    {
      "cell_type": "markdown",
      "metadata": {
        "id": "QuQAPSCaUOag"
      },
      "source": [
        "### JSON Extract Function\n",
        "\n",
        "This function will extract JSON files.\n"
      ]
    },
    {
      "cell_type": "code",
      "execution_count": null,
      "metadata": {
        "id": "S_3Pz1wxUOag"
      },
      "outputs": [],
      "source": [
        "def extract_from_json(file_to_process):\n",
        "    dataframe = pd.read_json(file_to_process)\n",
        "    return dataframe"
      ]
    },
    {
      "cell_type": "markdown",
      "metadata": {
        "id": "c69MMcf4UOah"
      },
      "source": [
        "## Extract Function\n",
        "\n",
        "Define the extract function that finds JSON file `bank_market_cap_1.json` and calls the function created above to extract data from them. Store the data in a `pandas` dataframe. Use the following list for the columns.\n"
      ]
    },
    {
      "cell_type": "code",
      "execution_count": 6,
      "metadata": {
        "id": "0DotNoofUOah"
      },
      "outputs": [],
      "source": [
        "columns=['Name','Market Cap (US$ Billion)']"
      ]
    },
    {
      "cell_type": "code",
      "execution_count": 9,
      "metadata": {
        "id": "rRj1cqPtUOah"
      },
      "outputs": [],
      "source": [
        "def extract():\n",
        "    # Write your code here\n",
        "    extracted_data = pd.DataFrame(columns=columns)\n",
        "    extracted_data = extracted_data.append(extract_from_json('bank_market_cap_1.json'), ignore_index=True)\n",
        "\n",
        "    return extracted_data"
      ]
    },
    {
      "cell_type": "markdown",
      "metadata": {
        "id": "mVeBEkAPUOai"
      },
      "source": [
        "<b>Question 1</b> Load the file <code>exchange_rates.csv</code> as a dataframe and find the exchange rate for British pounds with the symbol <code>GBP</code>, store it in the variable  <code>exchange_rate</code>, you will be asked for the number. Hint: set the parameter  <code>index_col</code> to 0.\n"
      ]
    },
    {
      "cell_type": "code",
      "execution_count": 10,
      "metadata": {
        "id": "qSoR0sckUOai",
        "colab": {
          "base_uri": "https://localhost:8080/"
        },
        "outputId": "5a950917-b720-4d23-963f-9cdbf21fe6d6"
      },
      "outputs": [
        {
          "output_type": "execute_result",
          "data": {
            "text/plain": [
              "Rates    0.732398\n",
              "Name: GBP, dtype: float64"
            ]
          },
          "metadata": {},
          "execution_count": 10
        }
      ],
      "source": [
        "# Write your code here\n",
        "exch_rate = pd.read_csv('exchange_rates.csv', index_col=0)\n",
        "exch_rate = exch_rate.loc['GBP',:]\n",
        "exch_rate\n",
        "\n"
      ]
    },
    {
      "cell_type": "markdown",
      "metadata": {
        "id": "m5MdynBFUOaj"
      },
      "source": [
        "## Transform\n",
        "\n",
        "Using <code>exchange_rate</code> and the `exchange_rates.csv` file find the exchange rate of USD to GBP. Write a transform function that\n",
        "\n",
        "1. Changes the `Market Cap (US$ Billion)` column from USD to GBP\n",
        "2. Rounds the Market Cap (US$ Billion)` column to 3 decimal places\n",
        "3. Rename `Market Cap (US$ Billion)` to `Market Cap (GBP$ Billion)`\n"
      ]
    },
    {
      "cell_type": "code",
      "execution_count": 12,
      "metadata": {
        "id": "YwMz0bPHUOaj"
      },
      "outputs": [],
      "source": [
        "def transform(market, exch_rate):\n",
        "    # Write your code here\n",
        "    market['Market Cap (GBP$ Billion)'] = market['Market Cap (US$ Billion)']\n",
        "    market['Market Cap (GBP$ Billion)']*=exch_rate['Rates'].tolist()\n",
        "    market.drop('Market Cap (US$ Billion)',axis=1, inplace=True)\n",
        "    \n",
        "    return market"
      ]
    },
    {
      "cell_type": "markdown",
      "metadata": {
        "id": "Rrt_sLtXUOak"
      },
      "source": [
        "## Load\n",
        "\n",
        "Create a function that takes a dataframe and load it to a csv named `bank_market_cap_gbp.csv`. Make sure to set `index` to `False`.\n"
      ]
    },
    {
      "cell_type": "code",
      "execution_count": 14,
      "metadata": {
        "id": "KnoJ-TqLUOak"
      },
      "outputs": [],
      "source": [
        "def load(data):\n",
        "    # Write your code here\n",
        "    data.to_csv('bank_market_cap_gbp.csv', index=False)\n",
        "    "
      ]
    },
    {
      "cell_type": "markdown",
      "metadata": {
        "id": "nHOFrqCQUOal"
      },
      "source": [
        "## Logging Function\n"
      ]
    },
    {
      "cell_type": "markdown",
      "metadata": {
        "id": "hqpiNs06UOal"
      },
      "source": [
        "Write the logging function <code>log</code> to log your data:\n"
      ]
    },
    {
      "cell_type": "code",
      "execution_count": 15,
      "metadata": {
        "id": "Vn6EPUdMUOam"
      },
      "outputs": [],
      "source": [
        "def log(log):\n",
        "    # Write your code here\n",
        "    with open('log.txt', 'a') as f:\n",
        "        f.write(f'{log}\\n')"
      ]
    },
    {
      "cell_type": "markdown",
      "metadata": {
        "id": "kQvkn9-IUOan"
      },
      "source": [
        "## Running the ETL Process\n"
      ]
    },
    {
      "cell_type": "markdown",
      "metadata": {
        "id": "4mu7QQn9UOan"
      },
      "source": [
        "Log the process accordingly using the following <code>\"ETL Job Started\"</code> and <code>\"Extract phase Started\"</code>\n"
      ]
    },
    {
      "cell_type": "code",
      "execution_count": 16,
      "metadata": {
        "id": "iV3vaGe4UOan"
      },
      "outputs": [],
      "source": [
        "# Write your code here\n",
        "log('ETL Job Started')\n",
        "log('Extract phase Started')"
      ]
    },
    {
      "cell_type": "markdown",
      "metadata": {
        "id": "8Rw0oS3DUOao"
      },
      "source": [
        "### Extract\n"
      ]
    },
    {
      "cell_type": "markdown",
      "metadata": {
        "id": "PELJPvCiUOao"
      },
      "source": [
        "<code>Question 2</code> Use the function <code>extract</code>, and print the first 5 rows, take a screen shot:\n"
      ]
    },
    {
      "cell_type": "code",
      "execution_count": 20,
      "metadata": {
        "id": "RNqcMKrcUOap",
        "colab": {
          "base_uri": "https://localhost:8080/",
          "height": 241
        },
        "outputId": "871f35ed-2cd4-4a68-fbc4-cf6ec2294a85"
      },
      "outputs": [
        {
          "output_type": "stream",
          "name": "stderr",
          "text": [
            "<ipython-input-9-e0b234ca8d98>:4: FutureWarning: The frame.append method is deprecated and will be removed from pandas in a future version. Use pandas.concat instead.\n",
            "  extracted_data = extracted_data.append(extract_from_json('bank_market_cap_1.json'), ignore_index=True)\n"
          ]
        },
        {
          "output_type": "execute_result",
          "data": {
            "text/plain": [
              "                                      Name  Market Cap (US$ Billion)\n",
              "0                           JPMorgan Chase                   390.934\n",
              "1  Industrial and Commercial Bank of China                   345.214\n",
              "2                          Bank of America                   325.331\n",
              "3                              Wells Fargo                   308.013\n",
              "4                  China Construction Bank                   257.399"
            ],
            "text/html": [
              "\n",
              "  <div id=\"df-c96d781b-451e-4152-8559-959242200fff\">\n",
              "    <div class=\"colab-df-container\">\n",
              "      <div>\n",
              "<style scoped>\n",
              "    .dataframe tbody tr th:only-of-type {\n",
              "        vertical-align: middle;\n",
              "    }\n",
              "\n",
              "    .dataframe tbody tr th {\n",
              "        vertical-align: top;\n",
              "    }\n",
              "\n",
              "    .dataframe thead th {\n",
              "        text-align: right;\n",
              "    }\n",
              "</style>\n",
              "<table border=\"1\" class=\"dataframe\">\n",
              "  <thead>\n",
              "    <tr style=\"text-align: right;\">\n",
              "      <th></th>\n",
              "      <th>Name</th>\n",
              "      <th>Market Cap (US$ Billion)</th>\n",
              "    </tr>\n",
              "  </thead>\n",
              "  <tbody>\n",
              "    <tr>\n",
              "      <th>0</th>\n",
              "      <td>JPMorgan Chase</td>\n",
              "      <td>390.934</td>\n",
              "    </tr>\n",
              "    <tr>\n",
              "      <th>1</th>\n",
              "      <td>Industrial and Commercial Bank of China</td>\n",
              "      <td>345.214</td>\n",
              "    </tr>\n",
              "    <tr>\n",
              "      <th>2</th>\n",
              "      <td>Bank of America</td>\n",
              "      <td>325.331</td>\n",
              "    </tr>\n",
              "    <tr>\n",
              "      <th>3</th>\n",
              "      <td>Wells Fargo</td>\n",
              "      <td>308.013</td>\n",
              "    </tr>\n",
              "    <tr>\n",
              "      <th>4</th>\n",
              "      <td>China Construction Bank</td>\n",
              "      <td>257.399</td>\n",
              "    </tr>\n",
              "  </tbody>\n",
              "</table>\n",
              "</div>\n",
              "      <button class=\"colab-df-convert\" onclick=\"convertToInteractive('df-c96d781b-451e-4152-8559-959242200fff')\"\n",
              "              title=\"Convert this dataframe to an interactive table.\"\n",
              "              style=\"display:none;\">\n",
              "        \n",
              "  <svg xmlns=\"http://www.w3.org/2000/svg\" height=\"24px\"viewBox=\"0 0 24 24\"\n",
              "       width=\"24px\">\n",
              "    <path d=\"M0 0h24v24H0V0z\" fill=\"none\"/>\n",
              "    <path d=\"M18.56 5.44l.94 2.06.94-2.06 2.06-.94-2.06-.94-.94-2.06-.94 2.06-2.06.94zm-11 1L8.5 8.5l.94-2.06 2.06-.94-2.06-.94L8.5 2.5l-.94 2.06-2.06.94zm10 10l.94 2.06.94-2.06 2.06-.94-2.06-.94-.94-2.06-.94 2.06-2.06.94z\"/><path d=\"M17.41 7.96l-1.37-1.37c-.4-.4-.92-.59-1.43-.59-.52 0-1.04.2-1.43.59L10.3 9.45l-7.72 7.72c-.78.78-.78 2.05 0 2.83L4 21.41c.39.39.9.59 1.41.59.51 0 1.02-.2 1.41-.59l7.78-7.78 2.81-2.81c.8-.78.8-2.07 0-2.86zM5.41 20L4 18.59l7.72-7.72 1.47 1.35L5.41 20z\"/>\n",
              "  </svg>\n",
              "      </button>\n",
              "      \n",
              "  <style>\n",
              "    .colab-df-container {\n",
              "      display:flex;\n",
              "      flex-wrap:wrap;\n",
              "      gap: 12px;\n",
              "    }\n",
              "\n",
              "    .colab-df-convert {\n",
              "      background-color: #E8F0FE;\n",
              "      border: none;\n",
              "      border-radius: 50%;\n",
              "      cursor: pointer;\n",
              "      display: none;\n",
              "      fill: #1967D2;\n",
              "      height: 32px;\n",
              "      padding: 0 0 0 0;\n",
              "      width: 32px;\n",
              "    }\n",
              "\n",
              "    .colab-df-convert:hover {\n",
              "      background-color: #E2EBFA;\n",
              "      box-shadow: 0px 1px 2px rgba(60, 64, 67, 0.3), 0px 1px 3px 1px rgba(60, 64, 67, 0.15);\n",
              "      fill: #174EA6;\n",
              "    }\n",
              "\n",
              "    [theme=dark] .colab-df-convert {\n",
              "      background-color: #3B4455;\n",
              "      fill: #D2E3FC;\n",
              "    }\n",
              "\n",
              "    [theme=dark] .colab-df-convert:hover {\n",
              "      background-color: #434B5C;\n",
              "      box-shadow: 0px 1px 3px 1px rgba(0, 0, 0, 0.15);\n",
              "      filter: drop-shadow(0px 1px 2px rgba(0, 0, 0, 0.3));\n",
              "      fill: #FFFFFF;\n",
              "    }\n",
              "  </style>\n",
              "\n",
              "      <script>\n",
              "        const buttonEl =\n",
              "          document.querySelector('#df-c96d781b-451e-4152-8559-959242200fff button.colab-df-convert');\n",
              "        buttonEl.style.display =\n",
              "          google.colab.kernel.accessAllowed ? 'block' : 'none';\n",
              "\n",
              "        async function convertToInteractive(key) {\n",
              "          const element = document.querySelector('#df-c96d781b-451e-4152-8559-959242200fff');\n",
              "          const dataTable =\n",
              "            await google.colab.kernel.invokeFunction('convertToInteractive',\n",
              "                                                     [key], {});\n",
              "          if (!dataTable) return;\n",
              "\n",
              "          const docLinkHtml = 'Like what you see? Visit the ' +\n",
              "            '<a target=\"_blank\" href=https://colab.research.google.com/notebooks/data_table.ipynb>data table notebook</a>'\n",
              "            + ' to learn more about interactive tables.';\n",
              "          element.innerHTML = '';\n",
              "          dataTable['output_type'] = 'display_data';\n",
              "          await google.colab.output.renderOutput(dataTable, element);\n",
              "          const docLink = document.createElement('div');\n",
              "          docLink.innerHTML = docLinkHtml;\n",
              "          element.appendChild(docLink);\n",
              "        }\n",
              "      </script>\n",
              "    </div>\n",
              "  </div>\n",
              "  "
            ]
          },
          "metadata": {},
          "execution_count": 20
        }
      ],
      "source": [
        "# Call the function here\n",
        "df = extract()\n",
        "# Print the rows here\n",
        "df.head()\n"
      ]
    },
    {
      "cell_type": "markdown",
      "metadata": {
        "id": "qyfMM0ZMUOap"
      },
      "source": [
        "Log the data as <code>\"Extract phase Ended\"</code>\n"
      ]
    },
    {
      "cell_type": "code",
      "execution_count": 21,
      "metadata": {
        "id": "B88jUiRCUOap"
      },
      "outputs": [],
      "source": [
        "# Write your code here\n",
        "log(\"Extract phase Ended\")"
      ]
    },
    {
      "cell_type": "markdown",
      "metadata": {
        "id": "4K4pOmLlUOaq"
      },
      "source": [
        "### Transform\n"
      ]
    },
    {
      "cell_type": "markdown",
      "metadata": {
        "id": "NhzPkwxsUOaq"
      },
      "source": [
        "Log the following  <code>\"Transform phase Started\"</code>\n"
      ]
    },
    {
      "cell_type": "code",
      "execution_count": 22,
      "metadata": {
        "id": "XI6f1PlrUOaq"
      },
      "outputs": [],
      "source": [
        "# Write your code here\n",
        "log(\"Transform phase Started\")"
      ]
    },
    {
      "cell_type": "markdown",
      "metadata": {
        "id": "v-Z57t1HUOar"
      },
      "source": [
        "<code>Question 3</code> Use the function <code>transform</code> and print the first 5 rows of the output, take a screen shot:\n"
      ]
    },
    {
      "cell_type": "code",
      "execution_count": 24,
      "metadata": {
        "id": "DggFuuofUOar",
        "colab": {
          "base_uri": "https://localhost:8080/",
          "height": 241
        },
        "outputId": "2ca340f2-04ed-4fc3-817b-877fd986e440"
      },
      "outputs": [
        {
          "output_type": "stream",
          "name": "stderr",
          "text": [
            "<ipython-input-9-e0b234ca8d98>:4: FutureWarning: The frame.append method is deprecated and will be removed from pandas in a future version. Use pandas.concat instead.\n",
            "  extracted_data = extracted_data.append(extract_from_json('bank_market_cap_1.json'), ignore_index=True)\n"
          ]
        },
        {
          "output_type": "execute_result",
          "data": {
            "text/plain": [
              "                                      Name  Market Cap (GBP$ Billion)\n",
              "0                           JPMorgan Chase                 286.319444\n",
              "1  Industrial and Commercial Bank of China                 252.834188\n",
              "2                          Bank of America                 238.271911\n",
              "3                              Wells Fargo                 225.588235\n",
              "4                  China Construction Bank                 188.518621"
            ],
            "text/html": [
              "\n",
              "  <div id=\"df-620513fc-2fd1-41d7-82c4-6702db979a0c\">\n",
              "    <div class=\"colab-df-container\">\n",
              "      <div>\n",
              "<style scoped>\n",
              "    .dataframe tbody tr th:only-of-type {\n",
              "        vertical-align: middle;\n",
              "    }\n",
              "\n",
              "    .dataframe tbody tr th {\n",
              "        vertical-align: top;\n",
              "    }\n",
              "\n",
              "    .dataframe thead th {\n",
              "        text-align: right;\n",
              "    }\n",
              "</style>\n",
              "<table border=\"1\" class=\"dataframe\">\n",
              "  <thead>\n",
              "    <tr style=\"text-align: right;\">\n",
              "      <th></th>\n",
              "      <th>Name</th>\n",
              "      <th>Market Cap (GBP$ Billion)</th>\n",
              "    </tr>\n",
              "  </thead>\n",
              "  <tbody>\n",
              "    <tr>\n",
              "      <th>0</th>\n",
              "      <td>JPMorgan Chase</td>\n",
              "      <td>286.319444</td>\n",
              "    </tr>\n",
              "    <tr>\n",
              "      <th>1</th>\n",
              "      <td>Industrial and Commercial Bank of China</td>\n",
              "      <td>252.834188</td>\n",
              "    </tr>\n",
              "    <tr>\n",
              "      <th>2</th>\n",
              "      <td>Bank of America</td>\n",
              "      <td>238.271911</td>\n",
              "    </tr>\n",
              "    <tr>\n",
              "      <th>3</th>\n",
              "      <td>Wells Fargo</td>\n",
              "      <td>225.588235</td>\n",
              "    </tr>\n",
              "    <tr>\n",
              "      <th>4</th>\n",
              "      <td>China Construction Bank</td>\n",
              "      <td>188.518621</td>\n",
              "    </tr>\n",
              "  </tbody>\n",
              "</table>\n",
              "</div>\n",
              "      <button class=\"colab-df-convert\" onclick=\"convertToInteractive('df-620513fc-2fd1-41d7-82c4-6702db979a0c')\"\n",
              "              title=\"Convert this dataframe to an interactive table.\"\n",
              "              style=\"display:none;\">\n",
              "        \n",
              "  <svg xmlns=\"http://www.w3.org/2000/svg\" height=\"24px\"viewBox=\"0 0 24 24\"\n",
              "       width=\"24px\">\n",
              "    <path d=\"M0 0h24v24H0V0z\" fill=\"none\"/>\n",
              "    <path d=\"M18.56 5.44l.94 2.06.94-2.06 2.06-.94-2.06-.94-.94-2.06-.94 2.06-2.06.94zm-11 1L8.5 8.5l.94-2.06 2.06-.94-2.06-.94L8.5 2.5l-.94 2.06-2.06.94zm10 10l.94 2.06.94-2.06 2.06-.94-2.06-.94-.94-2.06-.94 2.06-2.06.94z\"/><path d=\"M17.41 7.96l-1.37-1.37c-.4-.4-.92-.59-1.43-.59-.52 0-1.04.2-1.43.59L10.3 9.45l-7.72 7.72c-.78.78-.78 2.05 0 2.83L4 21.41c.39.39.9.59 1.41.59.51 0 1.02-.2 1.41-.59l7.78-7.78 2.81-2.81c.8-.78.8-2.07 0-2.86zM5.41 20L4 18.59l7.72-7.72 1.47 1.35L5.41 20z\"/>\n",
              "  </svg>\n",
              "      </button>\n",
              "      \n",
              "  <style>\n",
              "    .colab-df-container {\n",
              "      display:flex;\n",
              "      flex-wrap:wrap;\n",
              "      gap: 12px;\n",
              "    }\n",
              "\n",
              "    .colab-df-convert {\n",
              "      background-color: #E8F0FE;\n",
              "      border: none;\n",
              "      border-radius: 50%;\n",
              "      cursor: pointer;\n",
              "      display: none;\n",
              "      fill: #1967D2;\n",
              "      height: 32px;\n",
              "      padding: 0 0 0 0;\n",
              "      width: 32px;\n",
              "    }\n",
              "\n",
              "    .colab-df-convert:hover {\n",
              "      background-color: #E2EBFA;\n",
              "      box-shadow: 0px 1px 2px rgba(60, 64, 67, 0.3), 0px 1px 3px 1px rgba(60, 64, 67, 0.15);\n",
              "      fill: #174EA6;\n",
              "    }\n",
              "\n",
              "    [theme=dark] .colab-df-convert {\n",
              "      background-color: #3B4455;\n",
              "      fill: #D2E3FC;\n",
              "    }\n",
              "\n",
              "    [theme=dark] .colab-df-convert:hover {\n",
              "      background-color: #434B5C;\n",
              "      box-shadow: 0px 1px 3px 1px rgba(0, 0, 0, 0.15);\n",
              "      filter: drop-shadow(0px 1px 2px rgba(0, 0, 0, 0.3));\n",
              "      fill: #FFFFFF;\n",
              "    }\n",
              "  </style>\n",
              "\n",
              "      <script>\n",
              "        const buttonEl =\n",
              "          document.querySelector('#df-620513fc-2fd1-41d7-82c4-6702db979a0c button.colab-df-convert');\n",
              "        buttonEl.style.display =\n",
              "          google.colab.kernel.accessAllowed ? 'block' : 'none';\n",
              "\n",
              "        async function convertToInteractive(key) {\n",
              "          const element = document.querySelector('#df-620513fc-2fd1-41d7-82c4-6702db979a0c');\n",
              "          const dataTable =\n",
              "            await google.colab.kernel.invokeFunction('convertToInteractive',\n",
              "                                                     [key], {});\n",
              "          if (!dataTable) return;\n",
              "\n",
              "          const docLinkHtml = 'Like what you see? Visit the ' +\n",
              "            '<a target=\"_blank\" href=https://colab.research.google.com/notebooks/data_table.ipynb>data table notebook</a>'\n",
              "            + ' to learn more about interactive tables.';\n",
              "          element.innerHTML = '';\n",
              "          dataTable['output_type'] = 'display_data';\n",
              "          await google.colab.output.renderOutput(dataTable, element);\n",
              "          const docLink = document.createElement('div');\n",
              "          docLink.innerHTML = docLinkHtml;\n",
              "          element.appendChild(docLink);\n",
              "        }\n",
              "      </script>\n",
              "    </div>\n",
              "  </div>\n",
              "  "
            ]
          },
          "metadata": {},
          "execution_count": 24
        }
      ],
      "source": [
        "# Call the function here\n",
        "df = transform(extract(), exch_rate)\n",
        "# Print the first 5 rows here\n",
        "df.head()"
      ]
    },
    {
      "cell_type": "markdown",
      "metadata": {
        "id": "65-I4kwtUOar"
      },
      "source": [
        "Log your data <code>\"Transform phase Ended\"</code>\n"
      ]
    },
    {
      "cell_type": "code",
      "execution_count": 25,
      "metadata": {
        "id": "LSF9JZetUOa6"
      },
      "outputs": [],
      "source": [
        "# Write your code here\n",
        "log(\"Transform phase Ended\")"
      ]
    },
    {
      "cell_type": "markdown",
      "metadata": {
        "id": "7JwVm1UcUOa7"
      },
      "source": [
        "### Load\n"
      ]
    },
    {
      "cell_type": "markdown",
      "metadata": {
        "id": "I0Ph4hIFUOa7"
      },
      "source": [
        "Log the following `\"Load phase Started\"`.\n"
      ]
    },
    {
      "cell_type": "code",
      "execution_count": 26,
      "metadata": {
        "id": "izAccOYLUOa7"
      },
      "outputs": [],
      "source": [
        "# Write your code here\n",
        "log(\"Load phase Started\")"
      ]
    },
    {
      "cell_type": "markdown",
      "metadata": {
        "id": "RoiGMrhDUOa7"
      },
      "source": [
        "Call the load function\n"
      ]
    },
    {
      "cell_type": "code",
      "execution_count": 27,
      "metadata": {
        "id": "SrP4u8VWUOa7"
      },
      "outputs": [],
      "source": [
        "# Write your code here\n",
        "load(df)"
      ]
    },
    {
      "cell_type": "markdown",
      "metadata": {
        "id": "yLamfgUHUOa8"
      },
      "source": [
        "Log the following `\"Load phase Ended\"`.\n"
      ]
    },
    {
      "cell_type": "code",
      "execution_count": 28,
      "metadata": {
        "id": "YXrjdThCUOa8"
      },
      "outputs": [],
      "source": [
        "# Write your code here\n",
        "log(\"Load phase Ended\")"
      ]
    },
    {
      "cell_type": "markdown",
      "metadata": {
        "id": "nZcwBa4oUOa8"
      },
      "source": [
        "## Authors\n"
      ]
    },
    {
      "cell_type": "markdown",
      "metadata": {
        "id": "4cEZBsA5UOa8"
      },
      "source": [
        "Ramesh Sannareddy, Joseph Santrcangelo and Azim Hirjani\n"
      ]
    },
    {
      "cell_type": "markdown",
      "metadata": {
        "id": "TcDjCXnJUOa9"
      },
      "source": [
        "### Other Contributors\n"
      ]
    },
    {
      "cell_type": "markdown",
      "metadata": {
        "id": "zlXy47ZlUOa9"
      },
      "source": [
        "Rav Ahuja\n"
      ]
    },
    {
      "cell_type": "markdown",
      "metadata": {
        "id": "iIEvA6hjUOa9"
      },
      "source": [
        "## Change Log\n"
      ]
    },
    {
      "cell_type": "markdown",
      "metadata": {
        "id": "Eb3oQk2FUOa9"
      },
      "source": [
        "| Date (YYYY-MM-DD) | Version | Changed By        | Change Description                 |\n",
        "| ----------------- | ------- | ----------------- | ---------------------------------- |\n",
        "| 2020-11-25        | 0.1     | Ramesh Sannareddy | Created initial version of the lab |\n"
      ]
    },
    {
      "cell_type": "markdown",
      "metadata": {
        "id": "e7cn7iIfUOa9"
      },
      "source": [
        " Copyright © 2020 IBM Corporation. This notebook and its source code are released under the terms of the [MIT License](https://cognitiveclass.ai/mit-license?utm_medium=Exinfluencer&utm_source=Exinfluencer&utm_content=000026UJ&utm_term=10006555&utm_id=NA-SkillsNetwork-Channel-SkillsNetworkCoursesIBMDeveloperSkillsNetworkPY0221ENSkillsNetwork899-2023-01-01&cm_mmc=Email_Newsletter-_-Developer_Ed%2BTech-_-WW_WW-_-SkillsNetwork-Courses-IBM-DA0321EN-SkillsNetwork-21426264&cm_mmca1=000026UJ&cm_mmca2=10006555&cm_mmca3=M12345678&cvosrc=email.Newsletter.M12345678&cvo_campaign=000026UJ).\n"
      ]
    }
  ],
  "metadata": {
    "kernelspec": {
      "display_name": "Python",
      "language": "python",
      "name": "conda-env-python-py"
    },
    "language_info": {
      "name": ""
    },
    "colab": {
      "provenance": []
    }
  },
  "nbformat": 4,
  "nbformat_minor": 0
}